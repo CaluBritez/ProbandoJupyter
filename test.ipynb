{
 "cells": [
  {
   "cell_type": "markdown",
   "metadata": {},
   "source": [
    "# Primer parcial Python para Ciencia de Datos "
   ]
  },
  {
   "cell_type": "markdown",
   "metadata": {},
   "source": [
    "## Ejercicio de Algoritmia"
   ]
  },
  {
   "cell_type": "markdown",
   "metadata": {},
   "source": [
    "A continuación, se realizara una función que realiza una comparación lexicográfica de dos cadena de caracteres ingresadas, dando como resultado cual es mayor."
   ]
  },
  {
   "cell_type": "code",
   "execution_count": 2,
   "metadata": {},
   "outputs": [],
   "source": [
    "def comparar_cadenas_lexicograficas(cadena1, cadena2):\n",
    "\n",
    "    cadena1 = cadena1.upper()\n",
    "    cadena2 = cadena2.upper()\n",
    "\n",
    "    if (cadena1 < cadena2):\n",
    "        return -1\n",
    "    elif (cadena2 < cadena1):\n",
    "        return 1\n",
    "    else:\n",
    "        return 0"
   ]
  },
  {
   "cell_type": "markdown",
   "metadata": {},
   "source": [
    "Si la primera cadena es menor a la segunda, la función nos dara como resultado -1, si la segunda cadena es menor a la primera obtendremos 1, si son iguales tendremos 0."
   ]
  },
  {
   "cell_type": "markdown",
   "metadata": {},
   "source": [
    "Ejecutaremos la función ingresando dos variables que contendran \"Lucas\" y \"Valentino\""
   ]
  },
  {
   "cell_type": "code",
   "execution_count": null,
   "metadata": {},
   "outputs": [],
   "source": [
    "cadena1 = \"Lucas\"\n",
    "cadena2 = \"Valentino\"\n",
    "print(comparar_cadenas_lexicograficas(cadena1,cadena2))"
   ]
  },
  {
   "cell_type": "markdown",
   "metadata": {},
   "source": [
    "## Ejercicio Pandas"
   ]
  },
  {
   "cell_type": "markdown",
   "metadata": {},
   "source": [
    "En primera instancia se debe instalar dos librerías que utilizaremos en el desarrollo de este algoritmo."
   ]
  },
  {
   "cell_type": "markdown",
   "metadata": {},
   "source": [
    "```bash\n",
    "pip install pandas\n",
    "```"
   ]
  },
  {
   "cell_type": "markdown",
   "metadata": {},
   "source": [
    "```bash\n",
    "pip install matplotlib\n",
    "\n",
    "```"
   ]
  },
  {
   "cell_type": "markdown",
   "metadata": {},
   "source": [
    "A partir de la siguiente lista de objetos:"
   ]
  },
  {
   "cell_type": "code",
   "execution_count": 6,
   "metadata": {},
   "outputs": [],
   "source": [
    "ventas_mensuales = [\n",
    "{\"mes\": \"Enero\", \"total_ventas\": 15000, \"año\": 2023},\n",
    "{\"mes\": \"Febrero\", \"total_ventas\": 18000, \"año\": 2023},\n",
    "{\"mes\": \"Marzo\", \"total_ventas\": 22000, \"año\": 2023},\n",
    "{\"mes\": \"Abril\", \"total_ventas\": 19000, \"año\": 2023},\n",
    "{\"mes\": \"Mayo\", \"total_ventas\": 25000, \"año\": 2023},\n",
    "{\"mes\": \"Junio\", \"total_ventas\": 28000, \"año\": 2023},\n",
    "{\"mes\": \"Julio\", \"total_ventas\": 32000, \"año\": 2023},\n",
    "{\"mes\": \"Agosto\", \"total_ventas\": 30000, \"año\": 2023},\n",
    "{\"mes\": \"Septiembre\", \"total_ventas\": 28000, \"año\": 2023},\n",
    "{\"mes\": \"Octubre\", \"total_ventas\": 31000, \"año\": 2023},\n",
    "{\"mes\": \"Noviembre\", \"total_ventas\": 33000, \"año\": 2023},\n",
    "{\"mes\": \"Diciembre\", \"total_ventas\": 36000, \"año\": 2023},\n",
    "{\"mes\": \"Enero 2\", \"total_ventas\": 37000, \"año\": 2024},\n",
    "{\"mes\": \"Febrero 2\", \"total_ventas\": 38000, \"año\": 2024},\n",
    "{\"mes\": \"Marzo 2\", \"total_ventas\": 42000, \"año\": 2024},\n",
    "{\"mes\": \"Abril 2\", \"total_ventas\": 39000, \"año\": 2024},\n",
    "{\"mes\": \"Mayo 2\", \"total_ventas\": 45000, \"año\": 2024},\n",
    "{\"mes\": \"Junio 2\", \"total_ventas\": 48000, \"año\": 2024},\n",
    "{\"mes\": \"Julio 2\", \"total_ventas\": 52000, \"año\": 2024},\n",
    "{\"mes\": \"Agosto 2\", \"total_ventas\": 50000, \"año\": 2024},\n",
    "{\"mes\": \"Septiembre 2\", \"total_ventas\": 48000, \"año\": 2024},\n",
    "{\"mes\": \"Octubre 2\", \"total_ventas\": 51000, \"año\": 2024},\n",
    "{\"mes\": \"Noviembre 2\", \"total_ventas\": 55000, \"año\": 2024},\n",
    "{\"mes\": \"Diciembre 2\", \"total_ventas\": 58000, \"año\": 2024}\n",
    "]"
   ]
  },
  {
   "cell_type": "markdown",
   "metadata": {},
   "source": [
    "Importamos las funciones y metodos que utilizaremos de las librerías previamente instaladas"
   ]
  },
  {
   "cell_type": "code",
   "execution_count": 8,
   "metadata": {},
   "outputs": [],
   "source": [
    "import pandas as pd\n",
    "import matplotlib.pyplot as plt"
   ]
  },
  {
   "cell_type": "markdown",
   "metadata": {},
   "source": [
    "Creamos nuestro DataFrame utilizando la lista llamada **\"ventas mensuales\"**"
   ]
  },
  {
   "cell_type": "code",
   "execution_count": 9,
   "metadata": {},
   "outputs": [],
   "source": [
    "df = pd.DataFrame(ventas_mensuales)"
   ]
  },
  {
   "cell_type": "markdown",
   "metadata": {},
   "source": [
    "Una vez creado el DataFrame podemos empezar a dar respuesta a las consignas solicitadas."
   ]
  },
  {
   "cell_type": "markdown",
   "metadata": {},
   "source": [
    "Los meses donde las ventas superan los 20000 son los siguientes:"
   ]
  },
  {
   "cell_type": "code",
   "execution_count": null,
   "metadata": {},
   "outputs": [],
   "source": [
    "print(df[df[\"total_ventas\"] > 20000])"
   ]
  },
  {
   "cell_type": "markdown",
   "metadata": {},
   "source": [
    "Luego buscamos el monto de mayor volumen de ventas y su respectivo mes de la siguiente manera"
   ]
  },
  {
   "cell_type": "code",
   "execution_count": 12,
   "metadata": {},
   "outputs": [],
   "source": [
    "mayor_valor = df[\"total_ventas\"].max()"
   ]
  },
  {
   "cell_type": "markdown",
   "metadata": {},
   "source": [
    "Imprimimos por pantalla los resultados"
   ]
  },
  {
   "cell_type": "code",
   "execution_count": null,
   "metadata": {},
   "outputs": [],
   "source": [
    "print(f\"El monto de mayor volumen de venta fue de {mayor_valor} correspondiente al siguiente mes:\")\n",
    "print(df[df[\"total_ventas\"] == mayor_valor])"
   ]
  },
  {
   "cell_type": "markdown",
   "metadata": {},
   "source": [
    "Calculamos el promedio de ventas mensuales e imprimimos los resultados"
   ]
  },
  {
   "cell_type": "code",
   "execution_count": null,
   "metadata": {},
   "outputs": [],
   "source": [
    "promedio = round(df[\"total_ventas\"].mean(),2)\n",
    "print(f\"El promedio de ventas mensuales es de {promedio}\")"
   ]
  },
  {
   "cell_type": "markdown",
   "metadata": {},
   "source": [
    "Creamos un DataFrame que incluya dos columnas una para los meses y otra para el total de ventas de cada mes."
   ]
  },
  {
   "cell_type": "code",
   "execution_count": null,
   "metadata": {},
   "outputs": [],
   "source": [
    "meses = df[\"mes\"].tolist()\n",
    "ventas = df[\"total_ventas\"].tolist()\n",
    "new_df = pd.DataFrame()\n",
    "new_df[\"mes\"] = meses\n",
    "new_df[\"total_ventas\"] = ventas\n",
    "print(new_df)"
   ]
  },
  {
   "cell_type": "markdown",
   "metadata": {},
   "source": [
    "Por último realizamos un grafíco mostrando la tendencia de ventas a lo largo de los meses."
   ]
  },
  {
   "cell_type": "code",
   "execution_count": null,
   "metadata": {},
   "outputs": [],
   "source": [
    "fig, ax = plt.subplots()\n",
    "ax.plot(new_df[\"mes\"], new_df[\"total_ventas\"])\n",
    "plt.title(\"Ventas totales por mes\")\n",
    "plt.xlabel('Mes')\n",
    "plt.ylabel('Monto de ventas')\n",
    "plt.show()"
   ]
  }
 ],
 "metadata": {
  "kernelspec": {
   "display_name": "my-env",
   "language": "python",
   "name": "python3"
  },
  "language_info": {
   "codemirror_mode": {
    "name": "ipython",
    "version": 3
   },
   "file_extension": ".py",
   "mimetype": "text/x-python",
   "name": "python",
   "nbconvert_exporter": "python",
   "pygments_lexer": "ipython3",
   "version": "3.12.2"
  }
 },
 "nbformat": 4,
 "nbformat_minor": 2
}
